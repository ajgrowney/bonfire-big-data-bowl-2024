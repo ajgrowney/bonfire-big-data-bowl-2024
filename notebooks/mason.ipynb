{
 "cells": [
  {
   "cell_type": "markdown",
   "metadata": {},
   "source": [
    "# NFL Big Data Bowl 2024"
   ]
  },
  {
   "cell_type": "markdown",
   "metadata": {},
   "source": [
    "## Importing dataview libraries"
   ]
  },
  {
   "cell_type": "code",
   "execution_count": 40,
   "metadata": {},
   "outputs": [],
   "source": [
    "import pandas as pd\n",
    "import re\n",
    "import numpy as np\n",
    "import matplotlib.pyplot as plt\n",
    "from sklearn.model_selection import train_test_split"
   ]
  },
  {
   "cell_type": "code",
   "execution_count": 15,
   "metadata": {},
   "outputs": [],
   "source": [
    "DATA_ROOT = '../data/'"
   ]
  },
  {
   "cell_type": "code",
   "execution_count": 16,
   "metadata": {},
   "outputs": [],
   "source": [
    "plays = pd.read_csv(DATA_ROOT + 'plays.csv')"
   ]
  },
  {
   "cell_type": "code",
   "execution_count": 17,
   "metadata": {},
   "outputs": [],
   "source": [
    "def playDescriptionToDirection(play_description):\n",
    "    play = re.search('(pass (?:short|deep) (?:left|middle|right))|((?:left|right) (?:guard|tackle|end))|(up the middle)', play_description)\n",
    "    return play.group(0) if play else 'FUMBLED BALL'"
   ]
  },
  {
   "cell_type": "code",
   "execution_count": 18,
   "metadata": {},
   "outputs": [
    {
     "name": "stdout",
     "output_type": "stream",
     "text": [
      "Direction\n"
     ]
    }
   ],
   "source": [
    "print('Direction')\n",
    "plays['playDirection'] = plays['playDescription'].map(playDescriptionToDirection)"
   ]
  },
  {
   "cell_type": "code",
   "execution_count": 19,
   "metadata": {},
   "outputs": [],
   "source": [
    "import tensorflow as tf\n",
    "\n",
    "def stack_dict(inputs, fun=tf.stack):\n",
    "    values = []\n",
    "    for key in sorted(inputs.keys()):\n",
    "      values.append(tf.cast(inputs[key], tf.float32))\n",
    "\n",
    "    return fun(values, axis=-1)"
   ]
  },
  {
   "cell_type": "code",
   "execution_count": 20,
   "metadata": {},
   "outputs": [
    {
     "name": "stdout",
     "output_type": "stream",
     "text": [
      "0           SHOTGUN\n",
      "1           SHOTGUN\n",
      "2            I_FORM\n",
      "3        SINGLEBACK\n",
      "4            I_FORM\n",
      "            ...    \n",
      "12481    SINGLEBACK\n",
      "12482    SINGLEBACK\n",
      "12483       SHOTGUN\n",
      "12484       SHOTGUN\n",
      "12485        I_FORM\n",
      "Name: offenseFormation, Length: 12486, dtype: object\n"
     ]
    }
   ],
   "source": [
    "print(plays['offenseFormation'])"
   ]
  },
  {
   "cell_type": "code",
   "execution_count": 48,
   "metadata": {},
   "outputs": [
    {
     "name": "stdout",
     "output_type": "stream",
     "text": [
      "down                             int64\n",
      "yardsToGo                        int64\n",
      "defendersInTheBox              float64\n",
      "absoluteYardlineNumber           int64\n",
      "offenseFormation_EMPTY            bool\n",
      "offenseFormation_I_FORM           bool\n",
      "offenseFormation_JUMBO            bool\n",
      "offenseFormation_PISTOL           bool\n",
      "offenseFormation_SHOTGUN          bool\n",
      "offenseFormation_SINGLEBACK       bool\n",
      "offenseFormation_WILDCAT          bool\n",
      "dtype: object\n",
      "FUMBLED BALL         bool\n",
      "left end             bool\n",
      "left guard           bool\n",
      "left tackle          bool\n",
      "pass deep left       bool\n",
      "pass deep middle     bool\n",
      "pass deep right      bool\n",
      "pass short left      bool\n",
      "pass short middle    bool\n",
      "pass short right     bool\n",
      "right end            bool\n",
      "right guard          bool\n",
      "right tackle         bool\n",
      "up the middle        bool\n",
      "dtype: object\n"
     ]
    }
   ],
   "source": [
    "numeric_feature_names = ['down', 'yardsToGo', 'defendersInTheBox', 'absoluteYardlineNumber']\n",
    "categoric_feature_names = ['offenseFormation']\n",
    "binary_feature_names = []\n",
    "target_name = 'playDirection'\n",
    "\n",
    "df = plays[numeric_feature_names + categoric_feature_names + binary_feature_names + [target_name]].copy()\n",
    "df = df.dropna()\n",
    "df = pd.get_dummies(df, columns=categoric_feature_names)\n",
    "df = df.iloc[np.random.permutation(len(df))].reset_index(drop=True)\n",
    "\n",
    "target = df.pop(target_name)\n",
    "target = pd.get_dummies(target)"
   ]
  },
  {
   "cell_type": "code",
   "execution_count": 68,
   "metadata": {},
   "outputs": [
    {
     "name": "stdout",
     "output_type": "stream",
     "text": [
      "(6689, 11)\n"
     ]
    }
   ],
   "source": [
    "x, x_val = df[:int(len(df) * 0.8)], df[int(len(df) * 0.8):]\n",
    "y, y_val = target[:int(len(target) * 0.8)], target[int(len(target) * 0.8):]\n",
    "x_train, x_test, y_train, y_test = train_test_split(x, y, test_size=0.33, random_state=1)\n",
    "x_train = np.asarray(x_train).astype('float32')\n",
    "x_test = np.asarray(x_test).astype('float32')\n",
    "x_val = np.asarray(x_val).astype('float32')\n",
    "y_train = np.asarray(y_train).astype('float32')\n",
    "y_test = np.asarray(y_test).astype('float32')\n",
    "y_val = np.asarray(y_val).astype('float32')\n",
    "print(x_train.shape)"
   ]
  },
  {
   "cell_type": "code",
   "execution_count": 72,
   "metadata": {},
   "outputs": [],
   "source": [
    "model = tf.keras.Sequential()\n",
    "model.add(tf.keras.layers.Dense(11 ,activation='relu', input_shape=(11,)))\n",
    "model.add(tf.keras.layers.Dense(14, activation='relu'))\n",
    "\n",
    "opt = tf.keras.optimizers.legacy.Adam(learning_rate=1e-3, decay=1e-5)\n",
    "\n",
    "model.compile(optimizer=opt, loss='binary_crossentropy', metrics=['accuracy'])"
   ]
  },
  {
   "cell_type": "code",
   "execution_count": 73,
   "metadata": {},
   "outputs": [
    {
     "name": "stdout",
     "output_type": "stream",
     "text": [
      "Epoch 1/10\n"
     ]
    },
    {
     "name": "stderr",
     "output_type": "stream",
     "text": [
      "2023-11-18 14:36:37.656010: I tensorflow/core/grappler/optimizers/custom_graph_optimizer_registry.cc:117] Plugin optimizer for device_type GPU is enabled.\n"
     ]
    },
    {
     "name": "stdout",
     "output_type": "stream",
     "text": [
      "210/210 [==============================] - 6s 15ms/step - loss: 2.8526 - val_loss: 2.8136\n",
      "Epoch 2/10\n",
      "210/210 [==============================] - 2s 8ms/step - loss: 2.8039 - val_loss: 2.8128\n",
      "Epoch 3/10\n",
      "210/210 [==============================] - 2s 7ms/step - loss: 2.7980 - val_loss: 2.7994\n",
      "Epoch 4/10\n",
      "210/210 [==============================] - 2s 7ms/step - loss: 2.7905 - val_loss: 2.7902\n",
      "Epoch 5/10\n",
      "210/210 [==============================] - 1s 7ms/step - loss: 2.7987 - val_loss: 2.7829\n",
      "Epoch 6/10\n",
      "210/210 [==============================] - 1s 7ms/step - loss: 2.7848 - val_loss: 2.7917\n",
      "Epoch 7/10\n",
      "210/210 [==============================] - 2s 7ms/step - loss: 2.7874 - val_loss: 2.7903\n",
      "Epoch 8/10\n",
      "210/210 [==============================] - 2s 7ms/step - loss: 2.7784 - val_loss: 2.7792\n",
      "Epoch 9/10\n",
      "210/210 [==============================] - 2s 7ms/step - loss: 2.7711 - val_loss: 2.7875\n",
      "Epoch 10/10\n",
      "210/210 [==============================] - 2s 8ms/step - loss: 2.7835 - val_loss: 2.7863\n"
     ]
    },
    {
     "data": {
      "text/plain": [
       "<keras.src.callbacks.History at 0x2d691abd0>"
      ]
     },
     "execution_count": 73,
     "metadata": {},
     "output_type": "execute_result"
    }
   ],
   "source": [
    "model.fit(x_train, y_train, epochs=10, batch_size=32, validation_data=(x_val, y_val))"
   ]
  },
  {
   "cell_type": "code",
   "execution_count": 77,
   "metadata": {},
   "outputs": [
    {
     "name": "stdout",
     "output_type": "stream",
     "text": [
      "Test Accuracy: 2.770\n"
     ]
    }
   ],
   "source": [
    "loss = model.evaluate(x_test, y_test, verbose=0)\n",
    "print('Test Accuracy: %.3f' % acc)"
   ]
  }
 ],
 "metadata": {
  "kernelspec": {
   "display_name": "venv",
   "language": "python",
   "name": "python3"
  },
  "language_info": {
   "codemirror_mode": {
    "name": "ipython",
    "version": 3
   },
   "file_extension": ".py",
   "mimetype": "text/x-python",
   "name": "python",
   "nbconvert_exporter": "python",
   "pygments_lexer": "ipython3",
   "version": "3.11.6"
  }
 },
 "nbformat": 4,
 "nbformat_minor": 2
}
