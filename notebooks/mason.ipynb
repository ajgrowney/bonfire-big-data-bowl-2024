{
 "cells": [
  {
   "cell_type": "markdown",
   "metadata": {},
   "source": [
    "# NFL Big Data Bowl 2024"
   ]
  },
  {
   "cell_type": "markdown",
   "metadata": {},
   "source": [
    "## Importing dataview libraries"
   ]
  },
  {
   "cell_type": "code",
   "execution_count": 2,
   "metadata": {},
   "outputs": [],
   "source": [
    "import numpy as np\n",
    "import pandas as pd\n",
    "import matplotlib.pyplot as plt"
   ]
  },
  {
   "cell_type": "code",
   "execution_count": 3,
   "metadata": {},
   "outputs": [],
   "source": [
    "DATA_ROOT = '../data/'"
   ]
  },
  {
   "cell_type": "code",
   "execution_count": 4,
   "metadata": {},
   "outputs": [],
   "source": [
    "games = pd.read_csv(DATA_ROOT + 'games.csv')\n",
    "players = pd.read_csv(DATA_ROOT + 'players.csv')\n",
    "plays = pd.read_csv(DATA_ROOT + 'plays.csv')\n",
    "tackles = pd.read_csv(DATA_ROOT + 'tackles.csv')"
   ]
  },
  {
   "cell_type": "code",
   "execution_count": 67,
   "metadata": {},
   "outputs": [],
   "source": [
    "# Modify the plays dataframe to add a column for the play direction (pass short middle, run left end, etc.) and a column for if the play was in shotgun formation.\n",
    "import re\n",
    "\n",
    "def playDescriptionToDirection(play_description):\n",
    "    play = re.search('(pass (?:short|deep) (?:left|middle|right))|((?:left|right) (?:guard|tackle|end))|(up the middle)', play_description)\n",
    "    return play.group(0) if play else 'FUMBLED BALL'\n",
    "\n",
    "def playDescriptionToShotgun(play_description):\n",
    "    return re.search('[(]Shotgun[)]', play_description) != None\n",
    "\n",
    "def playDescriptionToStartingYard(play_description, offense):\n",
    "    if re.search('TOUCHDOWN', play_description):\n",
    "        return 100 - int(re.search('(?<=for )\\d+', play_description).group(0))\n",
    "    if re.search('SAFETY', play_description):\n",
    "        return 100 + int(re.search('(?<=for -)\\d+', play_description).group(0))\n",
    "    match = re.search('(?:(?:to|at)\\s)(?:(?:(\\w+)(?:\\s)(\\d+))|(50))(?: for )(?:(?:([-]?\\d+)(?: yard))|(no gain))', play_description)\n",
    "    if match == None:\n",
    "        print('WARN: Couldn\\'t parse:', play_description)\n",
    "        return -1\n",
    "    end_yard = -1\n",
    "    if match.group(3) == '50':\n",
    "        end_yard = 50\n",
    "    else:\n",
    "        end_yard = int(match.group(2))\n",
    "        end_yard = 100 - end_yard if match.group(1) != offense else end_yard\n",
    "    if match.group(5) == 'no gain':\n",
    "        return end_yard\n",
    "    return end_yard - int(match.group(4))\n",
    "    "
   ]
  },
  {
   "cell_type": "code",
   "execution_count": null,
   "metadata": {},
   "outputs": [],
   "source": []
  },
  {
   "cell_type": "code",
   "execution_count": 68,
   "metadata": {},
   "outputs": [
    {
     "name": "stdout",
     "output_type": "stream",
     "text": [
      "Direction\n",
      "Shotgun\n",
      "Starting Yardage\n"
     ]
    }
   ],
   "source": [
    "print('Direction')\n",
    "plays['playDirection'] = plays['playDescription'].map(playDescriptionToDirection)\n",
    "print('Shotgun')\n",
    "plays['shotgun'] = plays['playDescription'].map(playDescriptionToShotgun)\n",
    "print('Starting Yardage')\n",
    "plays['startingYard'] = list(map(playDescriptionToStartingYard, plays['playDescription'], plays['possessionTeam']))"
   ]
  },
  {
   "cell_type": "code",
   "execution_count": 63,
   "metadata": {},
   "outputs": [
    {
     "name": "stdout",
     "output_type": "stream",
     "text": [
      "                                     playDescription      playDirection  \\\n",
      "0  (7:52) (Shotgun) M.Mariota pass short middle t...  pass short middle   \n",
      "1  (7:38) (Shotgun) C.Claypool right end to PIT 3...          right end   \n",
      "2  (8:57) D.Carr pass short middle to D.Waller to...  pass short middle   \n",
      "3  (13:12) M.Boone left tackle to DEN 44 for 7 ya...        left tackle   \n",
      "4  (8:33) D.Singletary right guard to TEN 32 for ...        right guard   \n",
      "\n",
      "   shotgun  startingYard  \n",
      "0     True            41  \n",
      "1     True            34  \n",
      "2    False            30  \n",
      "3    False            37  \n",
      "4    False            65  \n"
     ]
    }
   ],
   "source": [
    "print(plays[['playDescription', 'playDirection', 'shotgun', 'startingYard']].head(5))"
   ]
  }
 ],
 "metadata": {
  "kernelspec": {
   "display_name": "venv",
   "language": "python",
   "name": "python3"
  },
  "language_info": {
   "codemirror_mode": {
    "name": "ipython",
    "version": 3
   },
   "file_extension": ".py",
   "mimetype": "text/x-python",
   "name": "python",
   "nbconvert_exporter": "python",
   "pygments_lexer": "ipython3",
   "version": "3.11.6"
  }
 },
 "nbformat": 4,
 "nbformat_minor": 2
}
