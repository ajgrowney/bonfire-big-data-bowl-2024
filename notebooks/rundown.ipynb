{
 "cells": [
  {
   "cell_type": "code",
   "execution_count": 1,
   "metadata": {},
   "outputs": [],
   "source": [
    "import pandas as pd\n",
    "\n",
    "pd.set_option(\"display.max_columns\", None)\n",
    "pd.set_option(\"max_colwidth\", None)\n",
    "import numpy as np\n",
    "import os"
   ]
  },
  {
   "cell_type": "code",
   "execution_count": 2,
   "metadata": {},
   "outputs": [],
   "source": [
    "# Data Importing\n",
    "DATA_ROOT = \"../data/\"\n",
    "tracking_data_parts = {}\n",
    "for i in range(8, 9):\n",
    "    tracking_data_parts[i] = pd.read_csv(\n",
    "        os.path.join(DATA_ROOT, f\"tracking_week_{i}.csv\")\n",
    "    )\n",
    "tracking_data = pd.concat(tracking_data_parts.values(), ignore_index=True)\n",
    "plays_data = pd.read_csv(os.path.join(DATA_ROOT, \"plays.csv\"))\n",
    "players_data = pd.read_csv(os.path.join(DATA_ROOT, \"players.csv\"))"
   ]
  },
  {
   "cell_type": "code",
   "execution_count": 6,
   "metadata": {},
   "outputs": [
    {
     "data": {
      "text/plain": [
       "isRundown\n",
       "False    12363\n",
       "True       123\n",
       "Name: count, dtype: int64"
      ]
     },
     "execution_count": 6,
     "metadata": {},
     "output_type": "execute_result"
    }
   ],
   "source": [
    "# Data Cleaning and Feature Generation\n",
    "\n",
    "\n",
    "def zero_if_nan(x):\n",
    "    if pd.isna(x):\n",
    "        return 0\n",
    "    else:\n",
    "        return x\n",
    "\n",
    "\n",
    "plays_data[\"groundYards\"] = (\n",
    "    plays_data[\"playResult\"]\n",
    "    - plays_data[\"penaltyYards\"].apply(zero_if_nan)\n",
    "    - plays_data[\"passLength\"].apply(zero_if_nan)\n",
    ")\n",
    "plays_data[\"isRundown\"] = (\n",
    "    (plays_data[\"groundYards\"] > 30)\n",
    "    & (plays_data[\"passLength\"].apply(zero_if_nan) == 0)\n",
    ") | (\n",
    "    (plays_data[\"groundYards\"] > 15)\n",
    "    & (plays_data[\"passLength\"].apply(zero_if_nan) > 15)\n",
    ")\n",
    "plays_data[\"isRundown\"].value_counts()"
   ]
  },
  {
   "cell_type": "markdown",
   "metadata": {},
   "source": [
    "Seems unuseful to track rundowns since they're so rare.\n"
   ]
  }
 ],
 "metadata": {
  "kernelspec": {
   "display_name": "venv",
   "language": "python",
   "name": "python3"
  },
  "language_info": {
   "codemirror_mode": {
    "name": "ipython",
    "version": 3
   },
   "file_extension": ".py",
   "mimetype": "text/x-python",
   "name": "python",
   "nbconvert_exporter": "python",
   "pygments_lexer": "ipython3",
   "version": "3.11.6"
  }
 },
 "nbformat": 4,
 "nbformat_minor": 2
}
